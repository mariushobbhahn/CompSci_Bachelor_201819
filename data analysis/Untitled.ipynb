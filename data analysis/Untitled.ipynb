{
 "cells": [
  {
   "cell_type": "markdown",
   "metadata": {},
   "source": [
    "## Data analysis for the bachelor thesis: using the scattering transform for image classification by Marius Hobbhahn (2019)"
   ]
  },
  {
   "cell_type": "markdown",
   "metadata": {},
   "source": [
    "1. Baseline tests: 3 Datasets(VOC, Kitti, toy_data) with additional parameters Batchnorm, Augmentations, Pretrained. Dependant variable is AP = average precision"
   ]
  },
  {
   "cell_type": "code",
   "execution_count": 8,
   "metadata": {},
   "outputs": [],
   "source": [
    "import pandas as pd\n",
    "import numpy as np\n",
    "import statsmodels.api as sm\n",
    "import statsmodels.formula.api as smf  "
   ]
  },
  {
   "cell_type": "code",
   "execution_count": 11,
   "metadata": {},
   "outputs": [
    {
     "data": {
      "text/html": [
       "<div>\n",
       "<style scoped>\n",
       "    .dataframe tbody tr th:only-of-type {\n",
       "        vertical-align: middle;\n",
       "    }\n",
       "\n",
       "    .dataframe tbody tr th {\n",
       "        vertical-align: top;\n",
       "    }\n",
       "\n",
       "    .dataframe thead th {\n",
       "        text-align: right;\n",
       "    }\n",
       "</style>\n",
       "<table border=\"1\" class=\"dataframe\">\n",
       "  <thead>\n",
       "    <tr style=\"text-align: right;\">\n",
       "      <th></th>\n",
       "      <th>VOC</th>\n",
       "      <th>Toy_data</th>\n",
       "      <th>Kitti</th>\n",
       "      <th>Augmentations</th>\n",
       "      <th>Batchnorm</th>\n",
       "      <th>Pretrained</th>\n",
       "      <th>Accuracy</th>\n",
       "    </tr>\n",
       "  </thead>\n",
       "  <tbody>\n",
       "    <tr>\n",
       "      <th>0</th>\n",
       "      <td>1</td>\n",
       "      <td>0</td>\n",
       "      <td>0</td>\n",
       "      <td>1</td>\n",
       "      <td>1</td>\n",
       "      <td>1</td>\n",
       "      <td>0.6250</td>\n",
       "    </tr>\n",
       "    <tr>\n",
       "      <th>1</th>\n",
       "      <td>1</td>\n",
       "      <td>0</td>\n",
       "      <td>0</td>\n",
       "      <td>1</td>\n",
       "      <td>1</td>\n",
       "      <td>1</td>\n",
       "      <td>0.6205</td>\n",
       "    </tr>\n",
       "    <tr>\n",
       "      <th>2</th>\n",
       "      <td>1</td>\n",
       "      <td>0</td>\n",
       "      <td>0</td>\n",
       "      <td>1</td>\n",
       "      <td>1</td>\n",
       "      <td>1</td>\n",
       "      <td>0.6062</td>\n",
       "    </tr>\n",
       "    <tr>\n",
       "      <th>3</th>\n",
       "      <td>1</td>\n",
       "      <td>0</td>\n",
       "      <td>0</td>\n",
       "      <td>1</td>\n",
       "      <td>1</td>\n",
       "      <td>1</td>\n",
       "      <td>0.6164</td>\n",
       "    </tr>\n",
       "    <tr>\n",
       "      <th>4</th>\n",
       "      <td>1</td>\n",
       "      <td>0</td>\n",
       "      <td>0</td>\n",
       "      <td>1</td>\n",
       "      <td>1</td>\n",
       "      <td>1</td>\n",
       "      <td>0.5079</td>\n",
       "    </tr>\n",
       "  </tbody>\n",
       "</table>\n",
       "</div>"
      ],
      "text/plain": [
       "   VOC  Toy_data  Kitti  Augmentations  Batchnorm  Pretrained  Accuracy\n",
       "0    1         0      0              1          1           1    0.6250\n",
       "1    1         0      0              1          1           1    0.6205\n",
       "2    1         0      0              1          1           1    0.6062\n",
       "3    1         0      0              1          1           1    0.6164\n",
       "4    1         0      0              1          1           1    0.5079"
      ]
     },
     "execution_count": 11,
     "metadata": {},
     "output_type": "execute_result"
    }
   ],
   "source": [
    "#load and show\n",
    "baselinedf = pd.read_csv('baselines.csv', delimiter=',')\n",
    "baselinedf.head(5)"
   ]
  },
  {
   "cell_type": "code",
   "execution_count": null,
   "metadata": {},
   "outputs": [],
   "source": [
    "#data cleaning: throw out the outliers"
   ]
  },
  {
   "cell_type": "code",
   "execution_count": 10,
   "metadata": {},
   "outputs": [
    {
     "name": "stdout",
     "output_type": "stream",
     "text": [
      "                 Generalized Linear Model Regression Results                  \n",
      "==============================================================================\n",
      "Dep. Variable:               Accuracy   No. Observations:                   79\n",
      "Model:                            GLM   Df Residuals:                       73\n",
      "Model Family:                Binomial   Df Model:                            5\n",
      "Link Function:                  logit   Scale:                          1.0000\n",
      "Method:                          IRLS   Log-Likelihood:                -28.657\n",
      "Date:                Thu, 16 May 2019   Deviance:                       5.4679\n",
      "Time:                        22:42:47   Pearson chi2:                     5.03\n",
      "No. Iterations:                     6   Covariance Type:             nonrobust\n",
      "=================================================================================\n",
      "                    coef    std err          z      P>|z|      [0.025      0.975]\n",
      "---------------------------------------------------------------------------------\n",
      "Intercept        -1.3273      0.464     -2.860      0.004      -2.237      -0.418\n",
      "VOC               0.2074      0.392      0.529      0.597      -0.562       0.976\n",
      "Toy_data          0.7313      0.407      1.796      0.073      -0.067       1.529\n",
      "Kitti            -2.2660      0.692     -3.277      0.001      -3.621      -0.911\n",
      "Augmentations     1.1066      0.545      2.031      0.042       0.039       2.175\n",
      "Batchnorm         0.0389      0.538      0.072      0.942      -1.016       1.093\n",
      "Pretrained        0.3041      0.542      0.561      0.575      -0.758       1.366\n",
      "=================================================================================\n"
     ]
    }
   ],
   "source": [
    "#fit the model with binomial and logistic link function\n",
    "baselinefit = sm.formula.glm( formula='Accuracy~VOC + Toy_data + Kitti + Augmentations + Batchnorm + Pretrained', \n",
    "                         data=baselinedf, \n",
    "                         family=sm.families.Binomial(link=sm.families.links.logit) \n",
    "                       ).fit()\n",
    "print(baselinefit.summary())"
   ]
  },
  {
   "cell_type": "code",
   "execution_count": null,
   "metadata": {},
   "outputs": [],
   "source": []
  }
 ],
 "metadata": {
  "kernelspec": {
   "display_name": "Python 3",
   "language": "python",
   "name": "python3"
  },
  "language_info": {
   "codemirror_mode": {
    "name": "ipython",
    "version": 3
   },
   "file_extension": ".py",
   "mimetype": "text/x-python",
   "name": "python",
   "nbconvert_exporter": "python",
   "pygments_lexer": "ipython3",
   "version": "3.6.8"
  }
 },
 "nbformat": 4,
 "nbformat_minor": 2
}
